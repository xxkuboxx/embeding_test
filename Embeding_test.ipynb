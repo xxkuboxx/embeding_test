{
 "cells": [
  {
   "cell_type": "code",
   "execution_count": 1,
   "id": "cloudy-treasure",
   "metadata": {},
   "outputs": [],
   "source": [
    "import pandas as pd\n",
    "import string\n",
    "import re\n",
    "import tensorflow as tf\n",
    "from bs4 import BeautifulSoup\n",
    "from janome.tokenizer import Tokenizer\n",
    "from tensorflow.keras.callbacks import EarlyStopping, ModelCheckpoint\n",
    "from tensorflow.keras.models import load_model\n",
    "from tensorflow.keras.preprocessing.sequence import pad_sequences\n",
    "from sklearn.metrics import f1_score, precision_score, recall_score\n",
    "from sklearn.model_selection import train_test_split"
   ]
  },
  {
   "cell_type": "code",
   "execution_count": 2,
   "id": "instructional-myanmar",
   "metadata": {},
   "outputs": [],
   "source": [
    "amazon_reviews_df = pd.read_csv('amazon_reviews_multilingual_JP_v1_00.tsv', sep='\\t')"
   ]
  },
  {
   "cell_type": "code",
   "execution_count": 3,
   "id": "differential-meter",
   "metadata": {},
   "outputs": [
    {
     "data": {
      "text/plain": [
       "Index(['marketplace', 'customer_id', 'review_id', 'product_id',\n",
       "       'product_parent', 'product_title', 'product_category', 'star_rating',\n",
       "       'helpful_votes', 'total_votes', 'vine', 'verified_purchase',\n",
       "       'review_headline', 'review_body', 'review_date'],\n",
       "      dtype='object')"
      ]
     },
     "execution_count": 3,
     "metadata": {},
     "output_type": "execute_result"
    }
   ],
   "source": [
    "amazon_reviews_df.columns"
   ]
  },
  {
   "cell_type": "code",
   "execution_count": 4,
   "id": "wired-abuse",
   "metadata": {},
   "outputs": [
    {
     "name": "stderr",
     "output_type": "stream",
     "text": [
      "/opt/conda/lib/python3.8/site-packages/pandas/core/generic.py:5491: SettingWithCopyWarning: \n",
      "A value is trying to be set on a copy of a slice from a DataFrame.\n",
      "Try using .loc[row_indexer,col_indexer] = value instead\n",
      "\n",
      "See the caveats in the documentation: https://pandas.pydata.org/pandas-docs/stable/user_guide/indexing.html#returning-a-view-versus-a-copy\n",
      "  self[name] = value\n"
     ]
    }
   ],
   "source": [
    "mapping = {1:0, 2:0, 4:1, 5:1}\n",
    "amazon_reviews_star1245_df = amazon_reviews_df[amazon_reviews_df.star_rating != 3]\n",
    "amazon_reviews_star1245_df.star_rating = amazon_reviews_star1245_df.star_rating.map(mapping)"
   ]
  },
  {
   "cell_type": "code",
   "execution_count": 5,
   "id": "affecting-offering",
   "metadata": {},
   "outputs": [
    {
     "data": {
      "text/html": [
       "<div>\n",
       "<style scoped>\n",
       "    .dataframe tbody tr th:only-of-type {\n",
       "        vertical-align: middle;\n",
       "    }\n",
       "\n",
       "    .dataframe tbody tr th {\n",
       "        vertical-align: top;\n",
       "    }\n",
       "\n",
       "    .dataframe thead th {\n",
       "        text-align: right;\n",
       "    }\n",
       "</style>\n",
       "<table border=\"1\" class=\"dataframe\">\n",
       "  <thead>\n",
       "    <tr style=\"text-align: right;\">\n",
       "      <th></th>\n",
       "      <th>star_rating</th>\n",
       "      <th>review_body</th>\n",
       "    </tr>\n",
       "  </thead>\n",
       "  <tbody>\n",
       "    <tr>\n",
       "      <th>0</th>\n",
       "      <td>0</td>\n",
       "      <td>残念ながら…趣味ではありませんでした。ケルト音楽の範疇にも幅があるのですね…</td>\n",
       "    </tr>\n",
       "    <tr>\n",
       "      <th>1</th>\n",
       "      <td>0</td>\n",
       "      <td>残念ながら…趣味ではありませんでした。正直退屈…眠気も起きない…</td>\n",
       "    </tr>\n",
       "    <tr>\n",
       "      <th>2</th>\n",
       "      <td>1</td>\n",
       "      <td>素晴らしいパフォーマンス。ミュージカル映画版の物足りない歌唱とは違います。</td>\n",
       "    </tr>\n",
       "    <tr>\n",
       "      <th>3</th>\n",
       "      <td>1</td>\n",
       "      <td>専門的な事を言わずにお勧めレコメを書きたいのですが、文才が無いので無理でした。ヒップホップが...</td>\n",
       "    </tr>\n",
       "    <tr>\n",
       "      <th>4</th>\n",
       "      <td>1</td>\n",
       "      <td>今までの環境（Core2 Duo E4600)に比べれば十分に快適になりました。&lt;br /&gt;...</td>\n",
       "    </tr>\n",
       "    <tr>\n",
       "      <th>...</th>\n",
       "      <td>...</td>\n",
       "      <td>...</td>\n",
       "    </tr>\n",
       "    <tr>\n",
       "      <th>262251</th>\n",
       "      <td>0</td>\n",
       "      <td>とても面白いゲームなのに、一度でも終了すると二度と起動出来なくなる。&lt;br /&gt;再インストー...</td>\n",
       "    </tr>\n",
       "    <tr>\n",
       "      <th>262252</th>\n",
       "      <td>1</td>\n",
       "      <td>ゆっくり時間を掛けてあれこれ進路を考えながら配置するのは結構楽しい作業。&lt;br /&gt;なかなか...</td>\n",
       "    </tr>\n",
       "    <tr>\n",
       "      <th>262253</th>\n",
       "      <td>1</td>\n",
       "      <td>A very candid analisys as to how the WWI start...</td>\n",
       "    </tr>\n",
       "    <tr>\n",
       "      <th>262254</th>\n",
       "      <td>1</td>\n",
       "      <td>Could hardly put this novel down. Was sorry it...</td>\n",
       "    </tr>\n",
       "    <tr>\n",
       "      <th>262255</th>\n",
       "      <td>1</td>\n",
       "      <td>リオ・ブラボーの町を牛耳るバーデット一味。その弟を殺人で逮捕した&lt;br /&gt;保安官チャンスは...</td>\n",
       "    </tr>\n",
       "  </tbody>\n",
       "</table>\n",
       "<p>234228 rows × 2 columns</p>\n",
       "</div>"
      ],
      "text/plain": [
       "        star_rating                                        review_body\n",
       "0                 0             残念ながら…趣味ではありませんでした。ケルト音楽の範疇にも幅があるのですね…\n",
       "1                 0                   残念ながら…趣味ではありませんでした。正直退屈…眠気も起きない…\n",
       "2                 1              素晴らしいパフォーマンス。ミュージカル映画版の物足りない歌唱とは違います。\n",
       "3                 1  専門的な事を言わずにお勧めレコメを書きたいのですが、文才が無いので無理でした。ヒップホップが...\n",
       "4                 1  今までの環境（Core2 Duo E4600)に比べれば十分に快適になりました。<br />...\n",
       "...             ...                                                ...\n",
       "262251            0  とても面白いゲームなのに、一度でも終了すると二度と起動出来なくなる。<br />再インストー...\n",
       "262252            1  ゆっくり時間を掛けてあれこれ進路を考えながら配置するのは結構楽しい作業。<br />なかなか...\n",
       "262253            1  A very candid analisys as to how the WWI start...\n",
       "262254            1  Could hardly put this novel down. Was sorry it...\n",
       "262255            1  リオ・ブラボーの町を牛耳るバーデット一味。その弟を殺人で逮捕した<br />保安官チャンスは...\n",
       "\n",
       "[234228 rows x 2 columns]"
      ]
     },
     "execution_count": 5,
     "metadata": {},
     "output_type": "execute_result"
    }
   ],
   "source": [
    "amazon_reviews_star1245_df[['star_rating','review_body']]"
   ]
  },
  {
   "cell_type": "code",
   "execution_count": 6,
   "id": "settled-sentence",
   "metadata": {},
   "outputs": [],
   "source": [
    "def filter_by_ascii_rate(text, threshold=0.9):\n",
    "    ascii_letters = set(string.printable)\n",
    "    rate = sum(c in ascii_letters for c in text) / len(text)\n",
    "    return rate <= threshold"
   ]
  },
  {
   "cell_type": "code",
   "execution_count": 7,
   "id": "freelance-southeast",
   "metadata": {
    "scrolled": true
   },
   "outputs": [],
   "source": [
    "is_jp = amazon_reviews_star1245_df.review_body.apply(filter_by_ascii_rate)\n",
    "amazon_reviews_star1245_df = amazon_reviews_star1245_df[is_jp]"
   ]
  },
  {
   "cell_type": "code",
   "execution_count": 8,
   "id": "vulnerable-helena",
   "metadata": {
    "scrolled": true
   },
   "outputs": [
    {
     "data": {
      "text/html": [
       "<div>\n",
       "<style scoped>\n",
       "    .dataframe tbody tr th:only-of-type {\n",
       "        vertical-align: middle;\n",
       "    }\n",
       "\n",
       "    .dataframe tbody tr th {\n",
       "        vertical-align: top;\n",
       "    }\n",
       "\n",
       "    .dataframe thead th {\n",
       "        text-align: right;\n",
       "    }\n",
       "</style>\n",
       "<table border=\"1\" class=\"dataframe\">\n",
       "  <thead>\n",
       "    <tr style=\"text-align: right;\">\n",
       "      <th></th>\n",
       "      <th>marketplace</th>\n",
       "      <th>customer_id</th>\n",
       "      <th>review_id</th>\n",
       "      <th>product_id</th>\n",
       "      <th>product_parent</th>\n",
       "      <th>product_title</th>\n",
       "      <th>product_category</th>\n",
       "      <th>star_rating</th>\n",
       "      <th>helpful_votes</th>\n",
       "      <th>total_votes</th>\n",
       "      <th>vine</th>\n",
       "      <th>verified_purchase</th>\n",
       "      <th>review_headline</th>\n",
       "      <th>review_body</th>\n",
       "      <th>review_date</th>\n",
       "    </tr>\n",
       "  </thead>\n",
       "  <tbody>\n",
       "    <tr>\n",
       "      <th>0</th>\n",
       "      <td>JP</td>\n",
       "      <td>65317</td>\n",
       "      <td>R33RSUD4ZTRKT7</td>\n",
       "      <td>B000001GBJ</td>\n",
       "      <td>957145596</td>\n",
       "      <td>SONGS FROM A SECRET GARDE</td>\n",
       "      <td>Music</td>\n",
       "      <td>0</td>\n",
       "      <td>1</td>\n",
       "      <td>15</td>\n",
       "      <td>N</td>\n",
       "      <td>Y</td>\n",
       "      <td>残念ながら…</td>\n",
       "      <td>残念ながら…趣味ではありませんでした。ケルト音楽の範疇にも幅があるのですね…</td>\n",
       "      <td>2012-12-05</td>\n",
       "    </tr>\n",
       "    <tr>\n",
       "      <th>1</th>\n",
       "      <td>JP</td>\n",
       "      <td>65317</td>\n",
       "      <td>R2U1VB8GPZBBEH</td>\n",
       "      <td>B000YPWBQ2</td>\n",
       "      <td>904244932</td>\n",
       "      <td>鏡の中の鏡‾ペルト作品集(SACD)(Arvo Part:Spiegel im Spiegel)</td>\n",
       "      <td>Music</td>\n",
       "      <td>0</td>\n",
       "      <td>4</td>\n",
       "      <td>20</td>\n",
       "      <td>N</td>\n",
       "      <td>Y</td>\n",
       "      <td>残念ながら…</td>\n",
       "      <td>残念ながら…趣味ではありませんでした。正直退屈…眠気も起きない…</td>\n",
       "      <td>2012-12-05</td>\n",
       "    </tr>\n",
       "    <tr>\n",
       "      <th>2</th>\n",
       "      <td>JP</td>\n",
       "      <td>65696</td>\n",
       "      <td>R1IBRCJPPGWVJW</td>\n",
       "      <td>B0002E5O9G</td>\n",
       "      <td>108978277</td>\n",
       "      <td>Les Miserables 10th Anniversary Concert</td>\n",
       "      <td>Music</td>\n",
       "      <td>1</td>\n",
       "      <td>2</td>\n",
       "      <td>3</td>\n",
       "      <td>N</td>\n",
       "      <td>Y</td>\n",
       "      <td>ドリームキャスト</td>\n",
       "      <td>素晴らしいパフォーマンス。ミュージカル映画版の物足りない歌唱とは違います。</td>\n",
       "      <td>2013-03-02</td>\n",
       "    </tr>\n",
       "    <tr>\n",
       "      <th>3</th>\n",
       "      <td>JP</td>\n",
       "      <td>67162</td>\n",
       "      <td>RL02CW5XLYONU</td>\n",
       "      <td>B00004SRJ5</td>\n",
       "      <td>606528497</td>\n",
       "      <td>It Takes a Nation of Millions to Hold Us Back</td>\n",
       "      <td>Music</td>\n",
       "      <td>1</td>\n",
       "      <td>6</td>\n",
       "      <td>9</td>\n",
       "      <td>N</td>\n",
       "      <td>Y</td>\n",
       "      <td>やっぱりマスト</td>\n",
       "      <td>専門的な事を言わずにお勧めレコメを書きたいのですが、文才が無いので無理でした。ヒップホップが...</td>\n",
       "      <td>2013-08-11</td>\n",
       "    </tr>\n",
       "    <tr>\n",
       "      <th>4</th>\n",
       "      <td>JP</td>\n",
       "      <td>67701</td>\n",
       "      <td>R2LA2SS3HU3A3L</td>\n",
       "      <td>B0093H8H8I</td>\n",
       "      <td>509738390</td>\n",
       "      <td>Intel CPU Core I3-3225 3.3GHz 3MBキャッシュ LGA1155...</td>\n",
       "      <td>PC</td>\n",
       "      <td>1</td>\n",
       "      <td>2</td>\n",
       "      <td>4</td>\n",
       "      <td>N</td>\n",
       "      <td>Y</td>\n",
       "      <td>コスパ的には十分</td>\n",
       "      <td>今までの環境（Core2 Duo E4600)に比べれば十分に快適になりました。&lt;br /&gt;...</td>\n",
       "      <td>2013-02-10</td>\n",
       "    </tr>\n",
       "    <tr>\n",
       "      <th>...</th>\n",
       "      <td>...</td>\n",
       "      <td>...</td>\n",
       "      <td>...</td>\n",
       "      <td>...</td>\n",
       "      <td>...</td>\n",
       "      <td>...</td>\n",
       "      <td>...</td>\n",
       "      <td>...</td>\n",
       "      <td>...</td>\n",
       "      <td>...</td>\n",
       "      <td>...</td>\n",
       "      <td>...</td>\n",
       "      <td>...</td>\n",
       "      <td>...</td>\n",
       "      <td>...</td>\n",
       "    </tr>\n",
       "    <tr>\n",
       "      <th>262249</th>\n",
       "      <td>JP</td>\n",
       "      <td>49068132</td>\n",
       "      <td>R1TFY1E6ZW2T5N</td>\n",
       "      <td>B000002IOJ</td>\n",
       "      <td>377805808</td>\n",
       "      <td>Practice What You Preach</td>\n",
       "      <td>Music</td>\n",
       "      <td>1</td>\n",
       "      <td>4</td>\n",
       "      <td>33</td>\n",
       "      <td>N</td>\n",
       "      <td>N</td>\n",
       "      <td>メントならこれから</td>\n",
       "      <td>通称「メント」。ポストメタリカの3Mの一角を担うバンド。#1.Practice What Y...</td>\n",
       "      <td>2003-01-13</td>\n",
       "    </tr>\n",
       "    <tr>\n",
       "      <th>262250</th>\n",
       "      <td>JP</td>\n",
       "      <td>49068171</td>\n",
       "      <td>R19UWXLR290D3X</td>\n",
       "      <td>B008RBFBZS</td>\n",
       "      <td>819159265</td>\n",
       "      <td>バルセロナ(スペシャル・エディション)(DVD付)</td>\n",
       "      <td>Music</td>\n",
       "      <td>1</td>\n",
       "      <td>0</td>\n",
       "      <td>0</td>\n",
       "      <td>N</td>\n",
       "      <td>Y</td>\n",
       "      <td>やっぱりフレディはスゴイ</td>\n",
       "      <td>久しぶりにフレディを聞きたくなり購入。さまざまなご意見はありますが、ロックとオペラの融合、そ...</td>\n",
       "      <td>2014-11-24</td>\n",
       "    </tr>\n",
       "    <tr>\n",
       "      <th>262251</th>\n",
       "      <td>JP</td>\n",
       "      <td>49068176</td>\n",
       "      <td>R2M96OZ1BUXN0Q</td>\n",
       "      <td>B007VGXS8M</td>\n",
       "      <td>428248709</td>\n",
       "      <td>タイムトラベラーウォーリーをおえ！™ (Kindle Tablet Edition)</td>\n",
       "      <td>Mobile_Apps</td>\n",
       "      <td>0</td>\n",
       "      <td>5</td>\n",
       "      <td>6</td>\n",
       "      <td>N</td>\n",
       "      <td>Y</td>\n",
       "      <td>起動できなくなる</td>\n",
       "      <td>とても面白いゲームなのに、一度でも終了すると二度と起動出来なくなる。&lt;br /&gt;再インストー...</td>\n",
       "      <td>2013-07-14</td>\n",
       "    </tr>\n",
       "    <tr>\n",
       "      <th>262252</th>\n",
       "      <td>JP</td>\n",
       "      <td>49068176</td>\n",
       "      <td>R2OEBHIJOW83UZ</td>\n",
       "      <td>B00AB7IA1S</td>\n",
       "      <td>132300013</td>\n",
       "      <td>Kings Can Fly</td>\n",
       "      <td>Mobile_Apps</td>\n",
       "      <td>1</td>\n",
       "      <td>1</td>\n",
       "      <td>1</td>\n",
       "      <td>N</td>\n",
       "      <td>Y</td>\n",
       "      <td>パズル好きにはいい</td>\n",
       "      <td>ゆっくり時間を掛けてあれこれ進路を考えながら配置するのは結構楽しい作業。&lt;br /&gt;なかなか...</td>\n",
       "      <td>2013-07-14</td>\n",
       "    </tr>\n",
       "    <tr>\n",
       "      <th>262255</th>\n",
       "      <td>JP</td>\n",
       "      <td>53096591</td>\n",
       "      <td>R1QSAP3YQII2SV</td>\n",
       "      <td>B00005LK0X</td>\n",
       "      <td>384417902</td>\n",
       "      <td>リオ・ブラボー [DVD]</td>\n",
       "      <td>Video DVD</td>\n",
       "      <td>1</td>\n",
       "      <td>18</td>\n",
       "      <td>21</td>\n",
       "      <td>N</td>\n",
       "      <td>N</td>\n",
       "      <td>ホークス的西部劇の傑作</td>\n",
       "      <td>リオ・ブラボーの町を牛耳るバーデット一味。その弟を殺人で逮捕した&lt;br /&gt;保安官チャンスは...</td>\n",
       "      <td>2002-05-24</td>\n",
       "    </tr>\n",
       "  </tbody>\n",
       "</table>\n",
       "<p>228836 rows × 15 columns</p>\n",
       "</div>"
      ],
      "text/plain": [
       "       marketplace  customer_id       review_id  product_id  product_parent  \\\n",
       "0               JP        65317  R33RSUD4ZTRKT7  B000001GBJ       957145596   \n",
       "1               JP        65317  R2U1VB8GPZBBEH  B000YPWBQ2       904244932   \n",
       "2               JP        65696  R1IBRCJPPGWVJW  B0002E5O9G       108978277   \n",
       "3               JP        67162   RL02CW5XLYONU  B00004SRJ5       606528497   \n",
       "4               JP        67701  R2LA2SS3HU3A3L  B0093H8H8I       509738390   \n",
       "...            ...          ...             ...         ...             ...   \n",
       "262249          JP     49068132  R1TFY1E6ZW2T5N  B000002IOJ       377805808   \n",
       "262250          JP     49068171  R19UWXLR290D3X  B008RBFBZS       819159265   \n",
       "262251          JP     49068176  R2M96OZ1BUXN0Q  B007VGXS8M       428248709   \n",
       "262252          JP     49068176  R2OEBHIJOW83UZ  B00AB7IA1S       132300013   \n",
       "262255          JP     53096591  R1QSAP3YQII2SV  B00005LK0X       384417902   \n",
       "\n",
       "                                            product_title product_category  \\\n",
       "0                               SONGS FROM A SECRET GARDE            Music   \n",
       "1        鏡の中の鏡‾ペルト作品集(SACD)(Arvo Part:Spiegel im Spiegel)            Music   \n",
       "2                 Les Miserables 10th Anniversary Concert            Music   \n",
       "3           It Takes a Nation of Millions to Hold Us Back            Music   \n",
       "4       Intel CPU Core I3-3225 3.3GHz 3MBキャッシュ LGA1155...               PC   \n",
       "...                                                   ...              ...   \n",
       "262249                           Practice What You Preach            Music   \n",
       "262250                          バルセロナ(スペシャル・エディション)(DVD付)            Music   \n",
       "262251         タイムトラベラーウォーリーをおえ！™ (Kindle Tablet Edition)      Mobile_Apps   \n",
       "262252                                      Kings Can Fly      Mobile_Apps   \n",
       "262255                                      リオ・ブラボー [DVD]        Video DVD   \n",
       "\n",
       "        star_rating  helpful_votes  total_votes vine verified_purchase  \\\n",
       "0                 0              1           15    N                 Y   \n",
       "1                 0              4           20    N                 Y   \n",
       "2                 1              2            3    N                 Y   \n",
       "3                 1              6            9    N                 Y   \n",
       "4                 1              2            4    N                 Y   \n",
       "...             ...            ...          ...  ...               ...   \n",
       "262249            1              4           33    N                 N   \n",
       "262250            1              0            0    N                 Y   \n",
       "262251            0              5            6    N                 Y   \n",
       "262252            1              1            1    N                 Y   \n",
       "262255            1             18           21    N                 N   \n",
       "\n",
       "       review_headline                                        review_body  \\\n",
       "0               残念ながら…             残念ながら…趣味ではありませんでした。ケルト音楽の範疇にも幅があるのですね…   \n",
       "1               残念ながら…                   残念ながら…趣味ではありませんでした。正直退屈…眠気も起きない…   \n",
       "2             ドリームキャスト              素晴らしいパフォーマンス。ミュージカル映画版の物足りない歌唱とは違います。   \n",
       "3              やっぱりマスト  専門的な事を言わずにお勧めレコメを書きたいのですが、文才が無いので無理でした。ヒップホップが...   \n",
       "4             コスパ的には十分  今までの環境（Core2 Duo E4600)に比べれば十分に快適になりました。<br />...   \n",
       "...                ...                                                ...   \n",
       "262249       メントならこれから  通称「メント」。ポストメタリカの3Mの一角を担うバンド。#1.Practice What Y...   \n",
       "262250    やっぱりフレディはスゴイ  久しぶりにフレディを聞きたくなり購入。さまざまなご意見はありますが、ロックとオペラの融合、そ...   \n",
       "262251        起動できなくなる  とても面白いゲームなのに、一度でも終了すると二度と起動出来なくなる。<br />再インストー...   \n",
       "262252       パズル好きにはいい  ゆっくり時間を掛けてあれこれ進路を考えながら配置するのは結構楽しい作業。<br />なかなか...   \n",
       "262255     ホークス的西部劇の傑作  リオ・ブラボーの町を牛耳るバーデット一味。その弟を殺人で逮捕した<br />保安官チャンスは...   \n",
       "\n",
       "       review_date  \n",
       "0       2012-12-05  \n",
       "1       2012-12-05  \n",
       "2       2013-03-02  \n",
       "3       2013-08-11  \n",
       "4       2013-02-10  \n",
       "...            ...  \n",
       "262249  2003-01-13  \n",
       "262250  2014-11-24  \n",
       "262251  2013-07-14  \n",
       "262252  2013-07-14  \n",
       "262255  2002-05-24  \n",
       "\n",
       "[228836 rows x 15 columns]"
      ]
     },
     "execution_count": 8,
     "metadata": {},
     "output_type": "execute_result"
    }
   ],
   "source": [
    "amazon_reviews_star1245_df"
   ]
  },
  {
   "cell_type": "code",
   "execution_count": 9,
   "id": "thousand-montana",
   "metadata": {},
   "outputs": [],
   "source": [
    "grouped = amazon_reviews_star1245_df.groupby('star_rating')"
   ]
  },
  {
   "cell_type": "code",
   "execution_count": 10,
   "id": "postal-point",
   "metadata": {},
   "outputs": [],
   "source": [
    "amazon_reviews_star1245_df = grouped.head(500)"
   ]
  },
  {
   "cell_type": "code",
   "execution_count": 11,
   "id": "vocational-hungarian",
   "metadata": {
    "scrolled": true
   },
   "outputs": [],
   "source": [
    "Y = amazon_reviews_star1245_df.star_rating.values"
   ]
  },
  {
   "cell_type": "code",
   "execution_count": 12,
   "id": "extended-violation",
   "metadata": {},
   "outputs": [],
   "source": [
    "X_raw = amazon_reviews_star1245_df.review_body.values"
   ]
  },
  {
   "cell_type": "code",
   "execution_count": 42,
   "id": "measured-genius",
   "metadata": {},
   "outputs": [
    {
     "data": {
      "text/html": [
       "<div>\n",
       "<style scoped>\n",
       "    .dataframe tbody tr th:only-of-type {\n",
       "        vertical-align: middle;\n",
       "    }\n",
       "\n",
       "    .dataframe tbody tr th {\n",
       "        vertical-align: top;\n",
       "    }\n",
       "\n",
       "    .dataframe thead th {\n",
       "        text-align: right;\n",
       "    }\n",
       "</style>\n",
       "<table border=\"1\" class=\"dataframe\">\n",
       "  <thead>\n",
       "    <tr style=\"text-align: right;\">\n",
       "      <th></th>\n",
       "      <th>marketplace</th>\n",
       "      <th>customer_id</th>\n",
       "      <th>review_id</th>\n",
       "      <th>product_id</th>\n",
       "      <th>product_parent</th>\n",
       "      <th>product_title</th>\n",
       "      <th>product_category</th>\n",
       "      <th>star_rating</th>\n",
       "      <th>helpful_votes</th>\n",
       "      <th>total_votes</th>\n",
       "      <th>vine</th>\n",
       "      <th>verified_purchase</th>\n",
       "      <th>review_headline</th>\n",
       "      <th>review_body</th>\n",
       "      <th>review_date</th>\n",
       "    </tr>\n",
       "  </thead>\n",
       "  <tbody>\n",
       "    <tr>\n",
       "      <th>0</th>\n",
       "      <td>JP</td>\n",
       "      <td>65317</td>\n",
       "      <td>R33RSUD4ZTRKT7</td>\n",
       "      <td>B000001GBJ</td>\n",
       "      <td>957145596</td>\n",
       "      <td>SONGS FROM A SECRET GARDE</td>\n",
       "      <td>Music</td>\n",
       "      <td>0</td>\n",
       "      <td>1</td>\n",
       "      <td>15</td>\n",
       "      <td>N</td>\n",
       "      <td>Y</td>\n",
       "      <td>残念ながら…</td>\n",
       "      <td>残念ながら…趣味ではありませんでした。ケルト音楽の範疇にも幅があるのですね…</td>\n",
       "      <td>2012-12-05</td>\n",
       "    </tr>\n",
       "    <tr>\n",
       "      <th>1</th>\n",
       "      <td>JP</td>\n",
       "      <td>65317</td>\n",
       "      <td>R2U1VB8GPZBBEH</td>\n",
       "      <td>B000YPWBQ2</td>\n",
       "      <td>904244932</td>\n",
       "      <td>鏡の中の鏡‾ペルト作品集(SACD)(Arvo Part:Spiegel im Spiegel)</td>\n",
       "      <td>Music</td>\n",
       "      <td>0</td>\n",
       "      <td>4</td>\n",
       "      <td>20</td>\n",
       "      <td>N</td>\n",
       "      <td>Y</td>\n",
       "      <td>残念ながら…</td>\n",
       "      <td>残念ながら…趣味ではありませんでした。正直退屈…眠気も起きない…</td>\n",
       "      <td>2012-12-05</td>\n",
       "    </tr>\n",
       "    <tr>\n",
       "      <th>2</th>\n",
       "      <td>JP</td>\n",
       "      <td>65696</td>\n",
       "      <td>R1IBRCJPPGWVJW</td>\n",
       "      <td>B0002E5O9G</td>\n",
       "      <td>108978277</td>\n",
       "      <td>Les Miserables 10th Anniversary Concert</td>\n",
       "      <td>Music</td>\n",
       "      <td>1</td>\n",
       "      <td>2</td>\n",
       "      <td>3</td>\n",
       "      <td>N</td>\n",
       "      <td>Y</td>\n",
       "      <td>ドリームキャスト</td>\n",
       "      <td>素晴らしいパフォーマンス。ミュージカル映画版の物足りない歌唱とは違います。</td>\n",
       "      <td>2013-03-02</td>\n",
       "    </tr>\n",
       "    <tr>\n",
       "      <th>3</th>\n",
       "      <td>JP</td>\n",
       "      <td>67162</td>\n",
       "      <td>RL02CW5XLYONU</td>\n",
       "      <td>B00004SRJ5</td>\n",
       "      <td>606528497</td>\n",
       "      <td>It Takes a Nation of Millions to Hold Us Back</td>\n",
       "      <td>Music</td>\n",
       "      <td>1</td>\n",
       "      <td>6</td>\n",
       "      <td>9</td>\n",
       "      <td>N</td>\n",
       "      <td>Y</td>\n",
       "      <td>やっぱりマスト</td>\n",
       "      <td>専門的な事を言わずにお勧めレコメを書きたいのですが、文才が無いので無理でした。ヒップホップが...</td>\n",
       "      <td>2013-08-11</td>\n",
       "    </tr>\n",
       "    <tr>\n",
       "      <th>4</th>\n",
       "      <td>JP</td>\n",
       "      <td>67701</td>\n",
       "      <td>R2LA2SS3HU3A3L</td>\n",
       "      <td>B0093H8H8I</td>\n",
       "      <td>509738390</td>\n",
       "      <td>Intel CPU Core I3-3225 3.3GHz 3MBキャッシュ LGA1155...</td>\n",
       "      <td>PC</td>\n",
       "      <td>1</td>\n",
       "      <td>2</td>\n",
       "      <td>4</td>\n",
       "      <td>N</td>\n",
       "      <td>Y</td>\n",
       "      <td>コスパ的には十分</td>\n",
       "      <td>今までの環境（Core2 Duo E4600)に比べれば十分に快適になりました。&lt;br /&gt;...</td>\n",
       "      <td>2013-02-10</td>\n",
       "    </tr>\n",
       "    <tr>\n",
       "      <th>...</th>\n",
       "      <td>...</td>\n",
       "      <td>...</td>\n",
       "      <td>...</td>\n",
       "      <td>...</td>\n",
       "      <td>...</td>\n",
       "      <td>...</td>\n",
       "      <td>...</td>\n",
       "      <td>...</td>\n",
       "      <td>...</td>\n",
       "      <td>...</td>\n",
       "      <td>...</td>\n",
       "      <td>...</td>\n",
       "      <td>...</td>\n",
       "      <td>...</td>\n",
       "      <td>...</td>\n",
       "    </tr>\n",
       "    <tr>\n",
       "      <th>5356</th>\n",
       "      <td>JP</td>\n",
       "      <td>8003845</td>\n",
       "      <td>R2EVH4JYYPZR0V</td>\n",
       "      <td>B00942S4OY</td>\n",
       "      <td>994624246</td>\n",
       "      <td>TAKE ME HOME</td>\n",
       "      <td>Music</td>\n",
       "      <td>0</td>\n",
       "      <td>1</td>\n",
       "      <td>18</td>\n",
       "      <td>N</td>\n",
       "      <td>Y</td>\n",
       "      <td>好きなファンには悪いけど…</td>\n",
       "      <td>聴くに耐えない!!アルバム3枚全部共に!!歌、バックの楽器、全て完成度の低さに耐えられない。</td>\n",
       "      <td>2014-04-25</td>\n",
       "    </tr>\n",
       "    <tr>\n",
       "      <th>5357</th>\n",
       "      <td>JP</td>\n",
       "      <td>8003845</td>\n",
       "      <td>R37TNQSJ2TLX00</td>\n",
       "      <td>B00F0N61AU</td>\n",
       "      <td>20401760</td>\n",
       "      <td>Midnight Memories</td>\n",
       "      <td>Music</td>\n",
       "      <td>0</td>\n",
       "      <td>7</td>\n",
       "      <td>38</td>\n",
       "      <td>N</td>\n",
       "      <td>Y</td>\n",
       "      <td>うるさくて、耳障りな音楽!!</td>\n",
       "      <td>歌は下手、バックの楽器もうるさい!お子供の音楽ですね。ジャニーズと変わらない!良いところが全...</td>\n",
       "      <td>2014-04-25</td>\n",
       "    </tr>\n",
       "    <tr>\n",
       "      <th>5358</th>\n",
       "      <td>JP</td>\n",
       "      <td>8003845</td>\n",
       "      <td>RYE96NS1DPU8M</td>\n",
       "      <td>B00BCZUAE8</td>\n",
       "      <td>552668905</td>\n",
       "      <td>The 20/20 Experience (Deluxe Version)</td>\n",
       "      <td>Music</td>\n",
       "      <td>0</td>\n",
       "      <td>3</td>\n",
       "      <td>23</td>\n",
       "      <td>N</td>\n",
       "      <td>Y</td>\n",
       "      <td>かなりのパクリですね。</td>\n",
       "      <td>フランク・ザッパを知らない若い方が多いと思いますが、ザッパの手法を真似ています。手法を取り入...</td>\n",
       "      <td>2014-06-09</td>\n",
       "    </tr>\n",
       "    <tr>\n",
       "      <th>5359</th>\n",
       "      <td>JP</td>\n",
       "      <td>8003845</td>\n",
       "      <td>R37Q97GW1P4GGS</td>\n",
       "      <td>B00E1LQ7Q0</td>\n",
       "      <td>338299933</td>\n",
       "      <td>The 20/20 Experience</td>\n",
       "      <td>Music</td>\n",
       "      <td>0</td>\n",
       "      <td>0</td>\n",
       "      <td>5</td>\n",
       "      <td>N</td>\n",
       "      <td>N</td>\n",
       "      <td>1よりは良いけど…</td>\n",
       "      <td>フランク・ザッパ色が少しなくなっているので、まだ良いのかも!?&lt;br /&gt;自分の才能を見せつ...</td>\n",
       "      <td>2014-06-09</td>\n",
       "    </tr>\n",
       "    <tr>\n",
       "      <th>5360</th>\n",
       "      <td>JP</td>\n",
       "      <td>8003845</td>\n",
       "      <td>R10EFTX9ZVZ2LB</td>\n",
       "      <td>B00JDMY58Y</td>\n",
       "      <td>712551751</td>\n",
       "      <td>バービーコレクター 2014 ホリデーバービー PINK(BDH13)</td>\n",
       "      <td>Toys</td>\n",
       "      <td>0</td>\n",
       "      <td>16</td>\n",
       "      <td>19</td>\n",
       "      <td>N</td>\n",
       "      <td>N</td>\n",
       "      <td>最低なホリデーバービーですね。</td>\n",
       "      <td>最近の1000円クラスの安価なバービーと同じですよ!作りが全てチープです。目の作り、プリント...</td>\n",
       "      <td>2014-10-19</td>\n",
       "    </tr>\n",
       "  </tbody>\n",
       "</table>\n",
       "<p>1000 rows × 15 columns</p>\n",
       "</div>"
      ],
      "text/plain": [
       "     marketplace  customer_id       review_id  product_id  product_parent  \\\n",
       "0             JP        65317  R33RSUD4ZTRKT7  B000001GBJ       957145596   \n",
       "1             JP        65317  R2U1VB8GPZBBEH  B000YPWBQ2       904244932   \n",
       "2             JP        65696  R1IBRCJPPGWVJW  B0002E5O9G       108978277   \n",
       "3             JP        67162   RL02CW5XLYONU  B00004SRJ5       606528497   \n",
       "4             JP        67701  R2LA2SS3HU3A3L  B0093H8H8I       509738390   \n",
       "...          ...          ...             ...         ...             ...   \n",
       "5356          JP      8003845  R2EVH4JYYPZR0V  B00942S4OY       994624246   \n",
       "5357          JP      8003845  R37TNQSJ2TLX00  B00F0N61AU        20401760   \n",
       "5358          JP      8003845   RYE96NS1DPU8M  B00BCZUAE8       552668905   \n",
       "5359          JP      8003845  R37Q97GW1P4GGS  B00E1LQ7Q0       338299933   \n",
       "5360          JP      8003845  R10EFTX9ZVZ2LB  B00JDMY58Y       712551751   \n",
       "\n",
       "                                          product_title product_category  \\\n",
       "0                             SONGS FROM A SECRET GARDE            Music   \n",
       "1      鏡の中の鏡‾ペルト作品集(SACD)(Arvo Part:Spiegel im Spiegel)            Music   \n",
       "2               Les Miserables 10th Anniversary Concert            Music   \n",
       "3         It Takes a Nation of Millions to Hold Us Back            Music   \n",
       "4     Intel CPU Core I3-3225 3.3GHz 3MBキャッシュ LGA1155...               PC   \n",
       "...                                                 ...              ...   \n",
       "5356                                       TAKE ME HOME            Music   \n",
       "5357                                  Midnight Memories            Music   \n",
       "5358              The 20/20 Experience (Deluxe Version)            Music   \n",
       "5359                               The 20/20 Experience            Music   \n",
       "5360                バービーコレクター 2014 ホリデーバービー PINK(BDH13)             Toys   \n",
       "\n",
       "      star_rating  helpful_votes  total_votes vine verified_purchase  \\\n",
       "0               0              1           15    N                 Y   \n",
       "1               0              4           20    N                 Y   \n",
       "2               1              2            3    N                 Y   \n",
       "3               1              6            9    N                 Y   \n",
       "4               1              2            4    N                 Y   \n",
       "...           ...            ...          ...  ...               ...   \n",
       "5356            0              1           18    N                 Y   \n",
       "5357            0              7           38    N                 Y   \n",
       "5358            0              3           23    N                 Y   \n",
       "5359            0              0            5    N                 N   \n",
       "5360            0             16           19    N                 N   \n",
       "\n",
       "      review_headline                                        review_body  \\\n",
       "0              残念ながら…             残念ながら…趣味ではありませんでした。ケルト音楽の範疇にも幅があるのですね…   \n",
       "1              残念ながら…                   残念ながら…趣味ではありませんでした。正直退屈…眠気も起きない…   \n",
       "2            ドリームキャスト              素晴らしいパフォーマンス。ミュージカル映画版の物足りない歌唱とは違います。   \n",
       "3             やっぱりマスト  専門的な事を言わずにお勧めレコメを書きたいのですが、文才が無いので無理でした。ヒップホップが...   \n",
       "4            コスパ的には十分  今までの環境（Core2 Duo E4600)に比べれば十分に快適になりました。<br />...   \n",
       "...               ...                                                ...   \n",
       "5356    好きなファンには悪いけど…     聴くに耐えない!!アルバム3枚全部共に!!歌、バックの楽器、全て完成度の低さに耐えられない。   \n",
       "5357   うるさくて、耳障りな音楽!!  歌は下手、バックの楽器もうるさい!お子供の音楽ですね。ジャニーズと変わらない!良いところが全...   \n",
       "5358      かなりのパクリですね。  フランク・ザッパを知らない若い方が多いと思いますが、ザッパの手法を真似ています。手法を取り入...   \n",
       "5359        1よりは良いけど…  フランク・ザッパ色が少しなくなっているので、まだ良いのかも!?<br />自分の才能を見せつ...   \n",
       "5360  最低なホリデーバービーですね。  最近の1000円クラスの安価なバービーと同じですよ!作りが全てチープです。目の作り、プリント...   \n",
       "\n",
       "     review_date  \n",
       "0     2012-12-05  \n",
       "1     2012-12-05  \n",
       "2     2013-03-02  \n",
       "3     2013-08-11  \n",
       "4     2013-02-10  \n",
       "...          ...  \n",
       "5356  2014-04-25  \n",
       "5357  2014-04-25  \n",
       "5358  2014-06-09  \n",
       "5359  2014-06-09  \n",
       "5360  2014-10-19  \n",
       "\n",
       "[1000 rows x 15 columns]"
      ]
     },
     "execution_count": 42,
     "metadata": {},
     "output_type": "execute_result"
    }
   ],
   "source": [
    "amazon_reviews_star1245_df"
   ]
  },
  {
   "cell_type": "code",
   "execution_count": 14,
   "id": "cardiac-template",
   "metadata": {},
   "outputs": [],
   "source": [
    "def clean_html(html, strip=False):\n",
    "    soup = BeautifulSoup(html, 'html.parser')\n",
    "    text = soup.get_text(strip=strip)\n",
    "    return text"
   ]
  },
  {
   "cell_type": "code",
   "execution_count": 15,
   "id": "mineral-nitrogen",
   "metadata": {},
   "outputs": [],
   "source": [
    "t = Tokenizer(wakati=True)"
   ]
  },
  {
   "cell_type": "code",
   "execution_count": 16,
   "id": "immediate-holder",
   "metadata": {},
   "outputs": [],
   "source": [
    "def tokenize(text):\n",
    "    return t.tokenize(text)"
   ]
  },
  {
   "cell_type": "code",
   "execution_count": 17,
   "id": "sorted-explanation",
   "metadata": {},
   "outputs": [],
   "source": [
    "def preprocess_dataset(texts):\n",
    "    texts = [clean_html(text) for text in texts]\n",
    "    texts = [' '.join(tokenize(text)) for text in texts]\n",
    "    return texts"
   ]
  },
  {
   "cell_type": "code",
   "execution_count": 18,
   "id": "frozen-loading",
   "metadata": {},
   "outputs": [],
   "source": [
    "X_wakati = preprocess_dataset(X_raw)"
   ]
  },
  {
   "cell_type": "code",
   "execution_count": 39,
   "id": "intensive-mount",
   "metadata": {},
   "outputs": [
    {
     "data": {
      "text/plain": [
       "1000"
      ]
     },
     "execution_count": 39,
     "metadata": {},
     "output_type": "execute_result"
    }
   ],
   "source": [
    "len(X_wakati)"
   ]
  },
  {
   "cell_type": "code",
   "execution_count": 20,
   "id": "appreciated-might",
   "metadata": {},
   "outputs": [],
   "source": [
    "x_train, x_test, y_train, y_test = train_test_split(X_wakati, Y,\n",
    "                                                    test_size=0.2,\n",
    "                                                    random_state=42)"
   ]
  },
  {
   "cell_type": "code",
   "execution_count": 21,
   "id": "optional-return",
   "metadata": {},
   "outputs": [],
   "source": [
    "tokenizer = tf.keras.preprocessing.text.Tokenizer(num_words = 4000, oov_token = '<UNK>')\n",
    "tokenizer.fit_on_texts(x_train)\n",
    "x_train = tokenizer.texts_to_sequences(x_train)"
   ]
  },
  {
   "cell_type": "code",
   "execution_count": 22,
   "id": "clean-brand",
   "metadata": {},
   "outputs": [],
   "source": [
    "x_test = tokenizer.texts_to_sequences(x_test)"
   ]
  },
  {
   "cell_type": "code",
   "execution_count": 45,
   "id": "elegant-dynamics",
   "metadata": {},
   "outputs": [],
   "source": [
    "x_train = pad_sequences(x_train, maxlen = 300, truncating='post')\n",
    "x_train_2 = x_train.copy()"
   ]
  },
  {
   "cell_type": "code",
   "execution_count": 24,
   "id": "twenty-antibody",
   "metadata": {},
   "outputs": [],
   "source": [
    "x_test = pad_sequences(x_test, maxlen = 300, truncating='post')"
   ]
  },
  {
   "cell_type": "code",
   "execution_count": 52,
   "id": "delayed-economics",
   "metadata": {},
   "outputs": [],
   "source": [
    "from tensorflow.keras.models import Model\n",
    "from tensorflow.keras.layers import Dense, Input, Embedding, LSTM, concatenate\n",
    "input_dim = 40000\n",
    "output_dim = 1\n",
    "emb_dim=300\n",
    "hid_dim=100\n",
    "input_unit = Input(shape=(None,), name='input')\n",
    "embedding = Embedding(input_dim = input_dim,\n",
    "                      output_dim = emb_dim,\n",
    "                      mask_zero = True,\n",
    "                      trainable = True,\n",
    "                      name = 'embedding')(input_unit)\n",
    "lstm = LSTM(hid_dim,\n",
    "            dropout = 0.2,\n",
    "            recurrent_dropout = 0.4,\n",
    "            activation = 'tanh',\n",
    "            name = 'lstm')(embedding)\n",
    "\n",
    "input_unit_2 = Input(shape=(None,), name='input_2')\n",
    "embedding_2 = Embedding(input_dim = input_dim,\n",
    "                      output_dim = emb_dim,\n",
    "                      mask_zero = True,\n",
    "                      trainable = True,\n",
    "                      name = 'embedding_2')(input_unit_2)\n",
    "lstm_2 = LSTM(hid_dim,\n",
    "            dropout = 0.2,\n",
    "            recurrent_dropout = 0.4,\n",
    "            activation = 'tanh',\n",
    "            name = 'lstm_2')(embedding_2)\n",
    "concatenated = concatenate([lstm, lstm_2], axis = -1)\n",
    "output_unit = Dense(output_dim, activation = 'sigmoid')(concatenated)\n",
    "\n",
    "model = Model(inputs = [input_unit, input_unit_2], outputs = output_unit)\n",
    "    "
   ]
  },
  {
   "cell_type": "code",
   "execution_count": 53,
   "id": "fifteen-cholesterol",
   "metadata": {},
   "outputs": [
    {
     "name": "stdout",
     "output_type": "stream",
     "text": [
      "Model: \"model_3\"\n",
      "__________________________________________________________________________________________________\n",
      "Layer (type)                    Output Shape         Param #     Connected to                     \n",
      "==================================================================================================\n",
      "input (InputLayer)              [(None, None)]       0                                            \n",
      "__________________________________________________________________________________________________\n",
      "input_2 (InputLayer)            [(None, None)]       0                                            \n",
      "__________________________________________________________________________________________________\n",
      "embedding (Embedding)           (None, None, 300)    12000000    input[0][0]                      \n",
      "__________________________________________________________________________________________________\n",
      "embedding_2 (Embedding)         (None, None, 300)    12000000    input_2[0][0]                    \n",
      "__________________________________________________________________________________________________\n",
      "lstm (LSTM)                     (None, 100)          160400      embedding[0][0]                  \n",
      "__________________________________________________________________________________________________\n",
      "lstm_2 (LSTM)                   (None, 100)          160400      embedding_2[0][0]                \n",
      "__________________________________________________________________________________________________\n",
      "concatenate_2 (Concatenate)     (None, 200)          0           lstm[0][0]                       \n",
      "                                                                 lstm_2[0][0]                     \n",
      "__________________________________________________________________________________________________\n",
      "dense_3 (Dense)                 (None, 1)            201         concatenate_2[0][0]              \n",
      "==================================================================================================\n",
      "Total params: 24,321,001\n",
      "Trainable params: 24,321,001\n",
      "Non-trainable params: 0\n",
      "__________________________________________________________________________________________________\n"
     ]
    }
   ],
   "source": [
    "model.summary()"
   ]
  },
  {
   "cell_type": "code",
   "execution_count": 54,
   "id": "sound-hammer",
   "metadata": {},
   "outputs": [],
   "source": [
    "model.compile(optimizer='adam',\n",
    "              loss='binary_crossentropy',\n",
    "              metrics=['acc'])"
   ]
  },
  {
   "cell_type": "code",
   "execution_count": 55,
   "id": "indoor-revision",
   "metadata": {},
   "outputs": [],
   "source": [
    "callbacks = [\n",
    "    EarlyStopping(patience=3),\n",
    "]"
   ]
  },
  {
   "cell_type": "code",
   "execution_count": 56,
   "id": "intended-thumb",
   "metadata": {},
   "outputs": [
    {
     "name": "stdout",
     "output_type": "stream",
     "text": [
      "Epoch 1/100\n",
      "5/5 [==============================] - 11s 2s/step - loss: 0.6924 - acc: 0.4998 - val_loss: 0.6826 - val_acc: 0.6562\n",
      "Epoch 2/100\n",
      "5/5 [==============================] - 8s 2s/step - loss: 0.6707 - acc: 0.6998 - val_loss: 0.6640 - val_acc: 0.6250\n",
      "Epoch 3/100\n",
      "5/5 [==============================] - 8s 2s/step - loss: 0.6153 - acc: 0.7528 - val_loss: 0.5613 - val_acc: 0.7500\n",
      "Epoch 4/100\n",
      "5/5 [==============================] - 9s 2s/step - loss: 0.4541 - acc: 0.8418 - val_loss: 0.4644 - val_acc: 0.8125\n",
      "Epoch 5/100\n",
      "5/5 [==============================] - 9s 2s/step - loss: 0.3516 - acc: 0.8429 - val_loss: 0.4429 - val_acc: 0.8000\n",
      "Epoch 6/100\n",
      "5/5 [==============================] - 9s 2s/step - loss: 0.1735 - acc: 0.9446 - val_loss: 0.4148 - val_acc: 0.7937\n",
      "Epoch 7/100\n",
      "5/5 [==============================] - 9s 2s/step - loss: 0.0833 - acc: 0.9805 - val_loss: 0.5905 - val_acc: 0.7875\n",
      "Epoch 8/100\n",
      "5/5 [==============================] - 9s 2s/step - loss: 0.0582 - acc: 0.9765 - val_loss: 0.6570 - val_acc: 0.7875\n",
      "Epoch 9/100\n",
      "5/5 [==============================] - 8s 2s/step - loss: 0.0214 - acc: 0.9961 - val_loss: 0.6100 - val_acc: 0.7812\n"
     ]
    },
    {
     "data": {
      "text/plain": [
       "<tensorflow.python.keras.callbacks.History at 0x7f588c4aa700>"
      ]
     },
     "execution_count": 56,
     "metadata": {},
     "output_type": "execute_result"
    }
   ],
   "source": [
    "model.fit(x = [x_train, x_train_2],\n",
    "          y = y_train,\n",
    "          batch_size = 128,\n",
    "          epochs = 100,\n",
    "          validation_split = 0.2,\n",
    "          callbacks = callbacks,\n",
    "          shuffle = True)"
   ]
  },
  {
   "cell_type": "code",
   "execution_count": 29,
   "id": "ahead-lloyd",
   "metadata": {
    "scrolled": true
   },
   "outputs": [
    {
     "data": {
      "text/plain": [
       "array([[  0,   0,   0, ...,   1, 148,  17],\n",
       "       [  0,   0,   0, ...,  47,  20,  57],\n",
       "       [  0,   0,   0, ...,  15, 185,   3],\n",
       "       ...,\n",
       "       [  0,   0,   0, ..., 721,  14,   3],\n",
       "       [  0,   0,   0, ...,  15,   1,  35],\n",
       "       [  0,   0,   0, ...,   1, 275,   3]], dtype=int32)"
      ]
     },
     "execution_count": 29,
     "metadata": {},
     "output_type": "execute_result"
    }
   ],
   "source": [
    "x_test"
   ]
  },
  {
   "cell_type": "code",
   "execution_count": 30,
   "id": "welcome-kazakhstan",
   "metadata": {},
   "outputs": [],
   "source": [
    "y_pred = model.predict(x_test)"
   ]
  },
  {
   "cell_type": "code",
   "execution_count": 31,
   "id": "healthy-arbitration",
   "metadata": {},
   "outputs": [],
   "source": [
    "import numpy as  np\n",
    "y_pred = np.argmax(y_pred, 1)"
   ]
  },
  {
   "cell_type": "code",
   "execution_count": 32,
   "id": "everyday-reservation",
   "metadata": {},
   "outputs": [
    {
     "data": {
      "text/plain": [
       "(200,)"
      ]
     },
     "execution_count": 32,
     "metadata": {},
     "output_type": "execute_result"
    }
   ],
   "source": [
    "y_test.shape"
   ]
  },
  {
   "cell_type": "code",
   "execution_count": 33,
   "id": "defined-speed",
   "metadata": {},
   "outputs": [
    {
     "data": {
      "text/plain": [
       "(200,)"
      ]
     },
     "execution_count": 33,
     "metadata": {},
     "output_type": "execute_result"
    }
   ],
   "source": [
    "y_pred.shape"
   ]
  },
  {
   "cell_type": "code",
   "execution_count": 34,
   "id": "chinese-examination",
   "metadata": {},
   "outputs": [
    {
     "name": "stdout",
     "output_type": "stream",
     "text": [
      "precision: 0.8400\n",
      "recall   : 0.6495\n",
      "f1       : 0.7326\n"
     ]
    }
   ],
   "source": [
    "print('precision: {:.4f}'.format(precision_score(y_test, y_pred, average='binary')))\n",
    "print('recall   : {:.4f}'.format(recall_score(y_test, y_pred, average='binary')))\n",
    "print('f1       : {:.4f}'.format(f1_score(y_test, y_pred, average='binary')))"
   ]
  },
  {
   "cell_type": "code",
   "execution_count": 35,
   "id": "improving-collector",
   "metadata": {},
   "outputs": [
    {
     "name": "stdout",
     "output_type": "stream",
     "text": [
      "['言う ほど 悪く ない と 思う けど']\n",
      "[[197, 176, 530, 17, 11, 132, 76]]\n",
      "[[0.58022195 0.4539495 ]]\n"
     ]
    }
   ],
   "source": [
    "text = \"言うほど悪くないと思うけど\"\n",
    "text_wakati = [' '.join(t.tokenize(text))]\n",
    "text_labeling = tokenizer.texts_to_sequences(text_wakati)\n",
    "text_padding = pad_sequences(text_labeling, maxlen = 300, truncating='post')\n",
    "print(text_wakati)\n",
    "print(text_labeling)\n",
    "text_pred = model.predict(text_padding)\n",
    "print(text_pred)"
   ]
  },
  {
   "cell_type": "code",
   "execution_count": 36,
   "id": "aquatic-registration",
   "metadata": {},
   "outputs": [
    {
     "data": {
      "text/plain": [
       "(800, 300)"
      ]
     },
     "execution_count": 36,
     "metadata": {},
     "output_type": "execute_result"
    }
   ],
   "source": [
    "x_train.shape"
   ]
  },
  {
   "cell_type": "code",
   "execution_count": 37,
   "id": "cleared-inquiry",
   "metadata": {},
   "outputs": [
    {
     "data": {
      "text/plain": [
       "(200, 300)"
      ]
     },
     "execution_count": 37,
     "metadata": {},
     "output_type": "execute_result"
    }
   ],
   "source": [
    "x_test.shape"
   ]
  },
  {
   "cell_type": "code",
   "execution_count": 43,
   "id": "shaped-danish",
   "metadata": {},
   "outputs": [
    {
     "name": "stdout",
     "output_type": "stream",
     "text": [
      "Model: \"model\"\n",
      "_________________________________________________________________\n",
      "Layer (type)                 Output Shape              Param #   \n",
      "=================================================================\n",
      "input (InputLayer)           [(None, None)]            0         \n",
      "_________________________________________________________________\n",
      "embedding (Embedding)        (None, None, 300)         12000000  \n",
      "_________________________________________________________________\n",
      "lstm (LSTM)                  (None, 100)               160400    \n",
      "_________________________________________________________________\n",
      "dense (Dense)                (None, 2)                 202       \n",
      "=================================================================\n",
      "Total params: 12,160,602\n",
      "Trainable params: 12,160,602\n",
      "Non-trainable params: 0\n",
      "_________________________________________________________________\n"
     ]
    }
   ],
   "source": [
    "model.summary()"
   ]
  },
  {
   "cell_type": "code",
   "execution_count": 44,
   "id": "compatible-constraint",
   "metadata": {},
   "outputs": [
    {
     "data": {
      "text/plain": [
       "(800,)"
      ]
     },
     "execution_count": 44,
     "metadata": {},
     "output_type": "execute_result"
    }
   ],
   "source": [
    "y_train.shape"
   ]
  },
  {
   "cell_type": "code",
   "execution_count": null,
   "id": "unlikely-thread",
   "metadata": {},
   "outputs": [],
   "source": []
  }
 ],
 "metadata": {
  "kernelspec": {
   "display_name": "Python 3",
   "language": "python",
   "name": "python3"
  },
  "language_info": {
   "codemirror_mode": {
    "name": "ipython",
    "version": 3
   },
   "file_extension": ".py",
   "mimetype": "text/x-python",
   "name": "python",
   "nbconvert_exporter": "python",
   "pygments_lexer": "ipython3",
   "version": "3.8.6"
  }
 },
 "nbformat": 4,
 "nbformat_minor": 5
}
